{
 "cells": [
  {
   "cell_type": "code",
   "execution_count": 1,
   "id": "a21aa70b",
   "metadata": {},
   "outputs": [
    {
     "name": "stdout",
     "output_type": "stream",
     "text": [
      "\n",
      "Note: you may need to restart the kernel to use updated packages.\n"
     ]
    }
   ],
   "source": [
    "# conda activate lenet"
   ]
  },
  {
   "cell_type": "code",
   "execution_count": 1,
   "id": "54b41d92",
   "metadata": {},
   "outputs": [
    {
     "name": "stdout",
     "output_type": "stream",
     "text": [
      "# conda environments:\n",
      "#\n",
      "base                     C:\\ProgramData\\Anaconda3\n",
      "Card_detector            C:\\ProgramData\\Anaconda3\\envs\\Card_detector\n",
      "Card_piece_Detector      C:\\ProgramData\\Anaconda3\\envs\\Card_piece_Detector\n",
      "dogcat                   C:\\ProgramData\\Anaconda3\\envs\\dogcat\n",
      "face_recognization       C:\\ProgramData\\Anaconda3\\envs\\face_recognization\n",
      "scrapper_resume          C:\\ProgramData\\Anaconda3\\envs\\scrapper_resume\n",
      "shreddermachine          C:\\ProgramData\\Anaconda3\\envs\\shreddermachine\n",
      "tfod-maskrcnn            C:\\ProgramData\\Anaconda3\\envs\\tfod-maskrcnn\n",
      "yolo5webapp              C:\\ProgramData\\Anaconda3\\envs\\yolo5webapp\n",
      "yolo5webapp1             C:\\ProgramData\\Anaconda3\\envs\\yolo5webapp1\n",
      "Deep_learning            C:\\Users\\thunderbolt\\.conda\\envs\\Deep_learning\n",
      "bboxtest                 C:\\Users\\thunderbolt\\.conda\\envs\\bboxtest\n",
      "demo1                    C:\\Users\\thunderbolt\\.conda\\envs\\demo1\n",
      "labelme                  C:\\Users\\thunderbolt\\.conda\\envs\\labelme\n",
      "lenet                 *  C:\\Users\\thunderbolt\\.conda\\envs\\lenet\n",
      "lenet2                   C:\\Users\\thunderbolt\\.conda\\envs\\lenet2\n",
      "opencv                   C:\\Users\\thunderbolt\\.conda\\envs\\opencv\n",
      "packaging                C:\\Users\\thunderbolt\\.conda\\envs\\packaging\n",
      "tf14class                C:\\Users\\thunderbolt\\.conda\\envs\\tf14class\n",
      "virtual_workspace        C:\\Users\\thunderbolt\\.conda\\envs\\virtual_workspace\n",
      "\n",
      "\n",
      "Note: you may need to restart the kernel to use updated packages.\n"
     ]
    },
    {
     "name": "stderr",
     "output_type": "stream",
     "text": [
      "C:\\ProgramData\\Anaconda3\\lib\\site-packages\\requests\\__init__.py:91: RequestsDependencyWarning: urllib3 (1.26.7) or chardet (3.0.4) doesn't match a supported version!\n",
      "  RequestsDependencyWarning)\n",
      "C:\\ProgramData\\Anaconda3\\lib\\site-packages\\requests\\__init__.py:91: RequestsDependencyWarning: urllib3 (1.26.7) or chardet (3.0.4) doesn't match a supported version!\n",
      "  RequestsDependencyWarning)\n"
     ]
    }
   ],
   "source": [
    "# conda env list"
   ]
  },
  {
   "cell_type": "code",
   "execution_count": 2,
   "id": "886f06f2",
   "metadata": {},
   "outputs": [
    {
     "name": "stdout",
     "output_type": "stream",
     "text": [
      "Package              VersionNote: you may need to restart the kernel to use updated packages.\n",
      "-------------------- ---------\n",
      "absl-py              0.14.1\n",
      "argon2-cffi          21.1.0\n",
      "astor                0.8.1\n",
      "async-generator      1.10\n",
      "attrs                21.2.0\n",
      "backcall             0.2.0\n",
      "bleach               4.1.0\n",
      "cached-property      1.5.2\n",
      "certifi              2021.5.30\n",
      "\n",
      "cffi                 1.14.6\n",
      "colorama             0.4.4\n",
      "coverage             5.5\n",
      "cycler               0.11.0\n",
      "Cython               0.29.24\n",
      "dataclasses          0.8\n",
      "decorator            5.1.0\n",
      "defusedxml           0.7.1\n",
      "entrypoints          0.3\n",
      "gast                 0.5.2\n",
      "google-pasta         0.2.0\n",
      "grpcio               1.41.0\n",
      "importlib-metadata   4.8.1\n",
      "ipykernel            5.5.6\n",
      "ipython              7.16.1\n",
      "ipython-genutils     0.2.0\n",
      "ipywidgets           7.6.5\n",
      "jedi                 0.18.0\n",
      "Jinja2               3.0.2\n",
      "jsonschema           3.2.0\n",
      "jupyter              1.0.0\n",
      "jupyter-client       7.0.6\n",
      "jupyter-console      6.4.0\n",
      "jupyter-core         4.8.1\n",
      "jupyterlab-pygments  0.1.2\n",
      "jupyterlab-widgets   1.0.2\n",
      "Keras                2.3.1\n",
      "Keras-Applications   1.0.8\n",
      "Keras-Preprocessing  1.1.2\n",
      "kiwisolver           1.3.1\n",
      "Markdown             3.3.4\n",
      "MarkupSafe           2.0.1\n",
      "matplotlib           3.3.4\n",
      "mistune              0.8.4\n",
      "mkl-fft              1.3.0\n",
      "mkl-random           1.1.1\n",
      "mkl-service          2.3.0\n",
      "nbclient             0.5.4\n",
      "nbconvert            6.0.7\n",
      "nbformat             5.1.3\n",
      "nest-asyncio         1.5.1\n",
      "notebook             6.4.4\n",
      "numpy                1.19.5\n",
      "opencv-python        4.5.5.62\n",
      "packaging            21.0\n",
      "pandas               1.1.5\n",
      "pandocfilters        1.5.0\n",
      "parso                0.8.2\n",
      "pickleshare          0.7.5\n",
      "Pillow               8.4.0\n",
      "pip                  21.2.2\n",
      "prometheus-client    0.11.0\n",
      "prompt-toolkit       3.0.20\n",
      "protobuf             3.18.1\n",
      "pycparser            2.20\n",
      "Pygments             2.10.0\n",
      "pyparsing            2.4.7\n",
      "pyreadline           2.1\n",
      "pyrsistent           0.18.0\n",
      "python-dateutil      2.8.2\n",
      "pytz                 2021.3\n",
      "pywin32              301\n",
      "pywinpty             1.1.4\n",
      "PyYAML               5.4.1\n",
      "pyzmq                22.3.0\n",
      "qtconsole            5.1.1\n",
      "QtPy                 1.11.2\n",
      "scipy                1.5.4\n",
      "seaborn              0.11.2\n",
      "Send2Trash           1.8.0\n",
      "setuptools           58.0.4\n",
      "six                  1.16.0\n",
      "tensorboard          1.14.0\n",
      "tensorflow           1.14.0\n",
      "tensorflow-estimator 1.14.0\n",
      "termcolor            1.1.0\n",
      "terminado            0.12.1\n",
      "testpath             0.5.0\n",
      "tornado              6.1\n",
      "traitlets            4.3.3\n",
      "typing-extensions    3.10.0.2\n",
      "wcwidth              0.2.5\n",
      "webencodings         0.5.1\n",
      "Werkzeug             2.0.2\n",
      "wheel                0.37.0\n",
      "widgetsnbextension   3.5.1\n",
      "wincertstore         0.2\n",
      "wrapt                1.13.1\n",
      "zipp                 3.6.0\n"
     ]
    }
   ],
   "source": [
    "pip list"
   ]
  },
  {
   "cell_type": "code",
   "execution_count": 2,
   "id": "21bd2c1e",
   "metadata": {},
   "outputs": [
    {
     "name": "stderr",
     "output_type": "stream",
     "text": [
      "Using TensorFlow backend.\n",
      "C:\\Users\\thunderbolt\\.conda\\envs\\lenet\\lib\\site-packages\\tensorflow\\python\\framework\\dtypes.py:516: FutureWarning: Passing (type, 1) or '1type' as a synonym of type is deprecated; in a future version of numpy, it will be understood as (type, (1,)) / '(1,)type'.\n",
      "  _np_qint8 = np.dtype([(\"qint8\", np.int8, 1)])\n",
      "C:\\Users\\thunderbolt\\.conda\\envs\\lenet\\lib\\site-packages\\tensorflow\\python\\framework\\dtypes.py:517: FutureWarning: Passing (type, 1) or '1type' as a synonym of type is deprecated; in a future version of numpy, it will be understood as (type, (1,)) / '(1,)type'.\n",
      "  _np_quint8 = np.dtype([(\"quint8\", np.uint8, 1)])\n",
      "C:\\Users\\thunderbolt\\.conda\\envs\\lenet\\lib\\site-packages\\tensorflow\\python\\framework\\dtypes.py:518: FutureWarning: Passing (type, 1) or '1type' as a synonym of type is deprecated; in a future version of numpy, it will be understood as (type, (1,)) / '(1,)type'.\n",
      "  _np_qint16 = np.dtype([(\"qint16\", np.int16, 1)])\n",
      "C:\\Users\\thunderbolt\\.conda\\envs\\lenet\\lib\\site-packages\\tensorflow\\python\\framework\\dtypes.py:519: FutureWarning: Passing (type, 1) or '1type' as a synonym of type is deprecated; in a future version of numpy, it will be understood as (type, (1,)) / '(1,)type'.\n",
      "  _np_quint16 = np.dtype([(\"quint16\", np.uint16, 1)])\n",
      "C:\\Users\\thunderbolt\\.conda\\envs\\lenet\\lib\\site-packages\\tensorflow\\python\\framework\\dtypes.py:520: FutureWarning: Passing (type, 1) or '1type' as a synonym of type is deprecated; in a future version of numpy, it will be understood as (type, (1,)) / '(1,)type'.\n",
      "  _np_qint32 = np.dtype([(\"qint32\", np.int32, 1)])\n",
      "C:\\Users\\thunderbolt\\.conda\\envs\\lenet\\lib\\site-packages\\tensorflow\\python\\framework\\dtypes.py:525: FutureWarning: Passing (type, 1) or '1type' as a synonym of type is deprecated; in a future version of numpy, it will be understood as (type, (1,)) / '(1,)type'.\n",
      "  np_resource = np.dtype([(\"resource\", np.ubyte, 1)])\n",
      "C:\\Users\\thunderbolt\\.conda\\envs\\lenet\\lib\\site-packages\\tensorboard\\compat\\tensorflow_stub\\dtypes.py:541: FutureWarning: Passing (type, 1) or '1type' as a synonym of type is deprecated; in a future version of numpy, it will be understood as (type, (1,)) / '(1,)type'.\n",
      "  _np_qint8 = np.dtype([(\"qint8\", np.int8, 1)])\n",
      "C:\\Users\\thunderbolt\\.conda\\envs\\lenet\\lib\\site-packages\\tensorboard\\compat\\tensorflow_stub\\dtypes.py:542: FutureWarning: Passing (type, 1) or '1type' as a synonym of type is deprecated; in a future version of numpy, it will be understood as (type, (1,)) / '(1,)type'.\n",
      "  _np_quint8 = np.dtype([(\"quint8\", np.uint8, 1)])\n",
      "C:\\Users\\thunderbolt\\.conda\\envs\\lenet\\lib\\site-packages\\tensorboard\\compat\\tensorflow_stub\\dtypes.py:543: FutureWarning: Passing (type, 1) or '1type' as a synonym of type is deprecated; in a future version of numpy, it will be understood as (type, (1,)) / '(1,)type'.\n",
      "  _np_qint16 = np.dtype([(\"qint16\", np.int16, 1)])\n",
      "C:\\Users\\thunderbolt\\.conda\\envs\\lenet\\lib\\site-packages\\tensorboard\\compat\\tensorflow_stub\\dtypes.py:544: FutureWarning: Passing (type, 1) or '1type' as a synonym of type is deprecated; in a future version of numpy, it will be understood as (type, (1,)) / '(1,)type'.\n",
      "  _np_quint16 = np.dtype([(\"quint16\", np.uint16, 1)])\n",
      "C:\\Users\\thunderbolt\\.conda\\envs\\lenet\\lib\\site-packages\\tensorboard\\compat\\tensorflow_stub\\dtypes.py:545: FutureWarning: Passing (type, 1) or '1type' as a synonym of type is deprecated; in a future version of numpy, it will be understood as (type, (1,)) / '(1,)type'.\n",
      "  _np_qint32 = np.dtype([(\"qint32\", np.int32, 1)])\n",
      "C:\\Users\\thunderbolt\\.conda\\envs\\lenet\\lib\\site-packages\\tensorboard\\compat\\tensorflow_stub\\dtypes.py:550: FutureWarning: Passing (type, 1) or '1type' as a synonym of type is deprecated; in a future version of numpy, it will be understood as (type, (1,)) / '(1,)type'.\n",
      "  np_resource = np.dtype([(\"resource\", np.ubyte, 1)])\n"
     ]
    }
   ],
   "source": [
    "import keras\n",
    "from keras.datasets import mnist\n",
    "from keras.layers import Conv2D, MaxPooling2D\n",
    "from keras.layers import Dense, Flatten\n",
    "from keras.models import Sequential"
   ]
  },
  {
   "cell_type": "code",
   "execution_count": 9,
   "id": "8812942b",
   "metadata": {},
   "outputs": [],
   "source": [
    "import keras\n",
    "from keras.datasets import mnist\n",
    "from keras.layers import Conv2D, MaxPooling2D\n",
    "from keras.layers import Dense, Flatten\n",
    "from keras.models import Sequential\n",
    "\n",
    "# Loading the dataset and perform splitting\n",
    "(x_train, y_train), (x_test, y_test) = mnist.load_data()\n",
    "# Peforming reshaping operation\n",
    "x_train = x_train.reshape(x_train.shape[0], 28, 28, 1)\n",
    "x_test = x_test.reshape(x_test.shape[0], 28, 28, 1)\n",
    "\n",
    "# Normalization\n",
    "x_train = x_train / 255\n",
    "x_test = x_test / 255\n",
    "\n",
    "# One Hot Encoding\n",
    "y_train = keras.utils.to_categorical(y_train, 10)\n",
    "y_test = keras.utils.to_categorical(y_test, 10)\n",
    "# Building the Model Architecture"
   ]
  },
  {
   "cell_type": "code",
   "execution_count": 10,
   "id": "2e682266",
   "metadata": {},
   "outputs": [
    {
     "name": "stdout",
     "output_type": "stream",
     "text": [
      "Model: \"sequential_7\"\n",
      "_________________________________________________________________\n",
      "Layer (type)                 Output Shape              Param #   \n",
      "=================================================================\n",
      "conv2d_23 (Conv2D)           (None, 26, 26, 8)         80        \n",
      "_________________________________________________________________\n",
      "conv2d_24 (Conv2D)           (None, 24, 24, 16)        1168      \n",
      "_________________________________________________________________\n",
      "max_pooling2d_12 (MaxPooling (None, 12, 12, 16)        0         \n",
      "_________________________________________________________________\n",
      "conv2d_25 (Conv2D)           (None, 10, 10, 32)        4640      \n",
      "_________________________________________________________________\n",
      "max_pooling2d_13 (MaxPooling (None, 5, 5, 32)          0         \n",
      "_________________________________________________________________\n",
      "conv2d_26 (Conv2D)           (None, 1, 1, 120)         96120     \n",
      "_________________________________________________________________\n",
      "flatten_7 (Flatten)          (None, 120)               0         \n",
      "_________________________________________________________________\n",
      "dense_13 (Dense)             (None, 64)                7744      \n",
      "_________________________________________________________________\n",
      "dense_14 (Dense)             (None, 10)                650       \n",
      "=================================================================\n",
      "Total params: 110,402\n",
      "Trainable params: 110,402\n",
      "Non-trainable params: 0\n",
      "_________________________________________________________________\n"
     ]
    }
   ],
   "source": [
    "model = Sequential()\n",
    "model.add(Conv2D(8, kernel_size=(3, 3), activation='relu', input_shape=(28, 28,1)))\n",
    "model.add(Conv2D(16, kernel_size=(3, 3), activation='relu'))\n",
    "model.add(MaxPooling2D(pool_size=(2, 2)))\n",
    "model.add(Conv2D(32, kernel_size=(3, 3), activation='relu'))\n",
    "model.add(MaxPooling2D(pool_size=(2, 2)))\n",
    "model.add(Conv2D(120, kernel_size=(5, 5), activation='relu'))\n",
    "model.add(Flatten())\n",
    "model.add(Dense(64, activation='relu'))\n",
    "model.add(Dense(10, activation='softmax'))\n",
    "\n",
    "model.summary()"
   ]
  },
  {
   "cell_type": "code",
   "execution_count": 11,
   "id": "35e66130",
   "metadata": {},
   "outputs": [
    {
     "name": "stdout",
     "output_type": "stream",
     "text": [
      "WARNING:tensorflow:From C:\\Users\\thunderbolt\\.conda\\envs\\lenet\\lib\\site-packages\\keras\\backend\\tensorflow_backend.py:422: The name tf.global_variables is deprecated. Please use tf.compat.v1.global_variables instead.\n",
      "\n",
      "Train on 60000 samples, validate on 10000 samples\n",
      "Epoch 1/10\n",
      "60000/60000 [==============================] - 329s 5ms/step - loss: 0.2962 - accuracy: 0.9111 - val_loss: 0.0698 - val_accuracy: 0.9779\n",
      "Epoch 2/10\n",
      "60000/60000 [==============================] - 359s 6ms/step - loss: 0.0677 - accuracy: 0.9800 - val_loss: 0.0477 - val_accuracy: 0.9855\n",
      "Epoch 3/10\n",
      "60000/60000 [==============================] - 345s 6ms/step - loss: 0.0460 - accuracy: 0.9863 - val_loss: 0.0335 - val_accuracy: 0.9900\n",
      "Epoch 4/10\n",
      "60000/60000 [==============================] - 279s 5ms/step - loss: 0.0352 - accuracy: 0.9895 - val_loss: 0.0303 - val_accuracy: 0.9909\n",
      "Epoch 5/10\n",
      "60000/60000 [==============================] - 337s 6ms/step - loss: 0.0283 - accuracy: 0.9913 - val_loss: 0.0302 - val_accuracy: 0.9908\n",
      "Epoch 6/10\n",
      "60000/60000 [==============================] - 353s 6ms/step - loss: 0.0238 - accuracy: 0.9925 - val_loss: 0.0322 - val_accuracy: 0.9901\n",
      "Epoch 7/10\n",
      "60000/60000 [==============================] - 280s 5ms/step - loss: 0.0191 - accuracy: 0.9939 - val_loss: 0.0270 - val_accuracy: 0.9915\n",
      "Epoch 8/10\n",
      "60000/60000 [==============================] - 264s 4ms/step - loss: 0.0168 - accuracy: 0.9944 - val_loss: 0.0257 - val_accuracy: 0.9914\n",
      "Epoch 9/10\n",
      "60000/60000 [==============================] - 275s 5ms/step - loss: 0.0141 - accuracy: 0.9957 - val_loss: 0.0310 - val_accuracy: 0.9915\n",
      "Epoch 10/10\n",
      "60000/60000 [==============================] - 262s 4ms/step - loss: 0.0121 - accuracy: 0.9960 - val_loss: 0.0255 - val_accuracy: 0.9927\n",
      "10000/10000 [==============================] - 17s 2ms/step\n",
      "Test Loss: 0.025503256620069078\n",
      "Test accuracy: 0.9926999807357788\n"
     ]
    }
   ],
   "source": [
    "model.compile(loss=keras.metrics.categorical_crossentropy, optimizer=keras.optimizers.Adam(), metrics=['accuracy'])\n",
    "model.fit(x_train, y_train, batch_size=128, epochs=10, verbose=1, validation_data=(x_test, y_test))\n",
    "score = model.evaluate(x_test, y_test)\n",
    "print('Test Loss:', score[0])\n",
    "print('Test accuracy:', score[1])\n"
   ]
  },
  {
   "cell_type": "code",
   "execution_count": 12,
   "id": "93a6c792",
   "metadata": {},
   "outputs": [
    {
     "name": "stdout",
     "output_type": "stream",
     "text": [
      "x_train.shape\n",
      "(60000, 28, 28, 1)\n",
      "\n",
      "x_test.shape\n",
      "(10000, 28, 28, 1)\n",
      "\n",
      "y_train.shape\n",
      "(60000, 10)\n",
      "\n",
      "y_test.shape\n",
      "(10000, 10)\n"
     ]
    }
   ],
   "source": [
    "print('x_train.shape')\n",
    "print(x_train.shape)\n",
    "print('')\n",
    "print('x_test.shape')\n",
    "print(x_test.shape)\n",
    "print('')\n",
    "print('y_train.shape')\n",
    "print(y_train.shape)\n",
    "print('')\n",
    "print('y_test.shape')\n",
    "print(y_test.shape)"
   ]
  },
  {
   "cell_type": "code",
   "execution_count": null,
   "id": "7286bb54",
   "metadata": {},
   "outputs": [],
   "source": [
    "#pip install opencv-python"
   ]
  },
  {
   "cell_type": "code",
   "execution_count": null,
   "id": "6e19c2a3",
   "metadata": {},
   "outputs": [],
   "source": [
    "#pip install Pillow"
   ]
  },
  {
   "cell_type": "code",
   "execution_count": 2,
   "id": "4c600305",
   "metadata": {},
   "outputs": [],
   "source": []
  },
  {
   "cell_type": "code",
   "execution_count": 13,
   "id": "5480ef4d",
   "metadata": {},
   "outputs": [
    {
     "name": "stdout",
     "output_type": "stream",
     "text": [
      "Pillow:  RGB (2040, 2410)\n",
      "OpenCV:  (2410, 2040, 3)\n"
     ]
    }
   ],
   "source": [
    "#  Using  open cv  and Pillow to  load the file \n",
    "import numpy\n",
    "import cv2\n",
    "from PIL import Image\n",
    "\n",
    "img_pil = Image.open('C:/Users/thunderbolt/Downloads/image5.jpg')\n",
    "print('Pillow: ', img_pil.mode, img_pil.size)\n",
    "\n",
    "img_new = cv2.imread('C:/Users/thunderbolt/Downloads/image5.jpg', cv2.IMREAD_UNCHANGED)\n",
    "print('OpenCV: ', img_new.shape)"
   ]
  },
  {
   "cell_type": "code",
   "execution_count": 14,
   "id": "6502ffc8",
   "metadata": {},
   "outputs": [],
   "source": [
    "import numpy as np\n",
    "import matplotlib.pyplot as plt\n",
    "import pandas as pd"
   ]
  },
  {
   "cell_type": "code",
   "execution_count": 15,
   "id": "35dcb2bc",
   "metadata": {},
   "outputs": [
    {
     "data": {
      "text/plain": [
       "(-0.5, 2039.5, 2409.5, -0.5)"
      ]
     },
     "execution_count": 15,
     "metadata": {},
     "output_type": "execute_result"
    },
    {
     "data": {
      "image/png": "[encoded data removed]",
      "text/plain": [
       "<Figure size 432x288 with 1 Axes>"
      ]
     },
     "metadata": {
      "needs_background": "light"
     },
     "output_type": "display_data"
    }
   ],
   "source": [
    "plt.imshow( img_new ,cmap = \"binary\")\n",
    "plt.axis(\"off\")"
   ]
  },
  {
   "cell_type": "code",
   "execution_count": 16,
   "id": "9a92f146",
   "metadata": {},
   "outputs": [],
   "source": [
    "# loading the test image \n",
    "from PIL import Image\n",
    "image = Image.open('C:/Users/thunderbolt/Downloads/image5.jpg')"
   ]
  },
  {
   "cell_type": "code",
   "execution_count": 17,
   "id": "86c9d96d",
   "metadata": {},
   "outputs": [
    {
     "name": "stdout",
     "output_type": "stream",
     "text": [
      "JPEG\n",
      "RGB\n",
      "(2040, 2410)\n",
      "None\n"
     ]
    }
   ],
   "source": [
    "# Checking size , format , mode of test image \n",
    "\n",
    "print(image.format) # Output: JPEG\n",
    "\n",
    "# The pixel format used by the image. Typical values are \"1\", \"L\", \"RGB\", or \"CMYK.\"\n",
    "print(image.mode) # Output: RGB\n",
    "\n",
    "# Image size, in pixels. The size is given as a 2-tuple (width, height).\n",
    "print(image.size) # Output: (1920, 1280)\n",
    "\n",
    "# Colour palette table, if any.\n",
    "print(image.palette) # Output: None"
   ]
  },
  {
   "cell_type": "code",
   "execution_count": 18,
   "id": "c9bacbce",
   "metadata": {},
   "outputs": [],
   "source": [
    "# If we want  aspect ratio  to  be maintained while resizing  image \n",
    "#image.thumbnail((28, 28))\n",
    "#image.save('image_thumbnail.jpg')\n",
    "\n",
    "#print(image.size) # Output: (400, 267)\n"
   ]
  },
  {
   "cell_type": "code",
   "execution_count": 19,
   "id": "27cbf11c",
   "metadata": {},
   "outputs": [
    {
     "name": "stdout",
     "output_type": "stream",
     "text": [
      "(2040, 2410)\n",
      "(28, 28)\n"
     ]
    }
   ],
   "source": [
    "# Here we are resizing the test image to  the default training  image dimenstion\n",
    "#image = Image.open('demo_image.jpg')\n",
    "new_image = image.resize((28, 28))\n",
    "new_image.save('image_28.jpg')\n",
    "\n",
    "print(image.size) \n",
    "print(new_image.size)"
   ]
  },
  {
   "cell_type": "code",
   "execution_count": 20,
   "id": "21a8ffe0",
   "metadata": {},
   "outputs": [
    {
     "name": "stdout",
     "output_type": "stream",
     "text": [
      "RGB\n",
      "L\n"
     ]
    }
   ],
   "source": [
    "# converting RGB image into  grey scale having  1 channel\n",
    "\n",
    "greyscale_image = new_image.convert('L')\n",
    "greyscale_image.save('greyscale_image.jpg')\n",
    "\n",
    "print(new_image.mode) # Output: RGB\n",
    "print(greyscale_image.mode) # Output: L\n"
   ]
  },
  {
   "cell_type": "code",
   "execution_count": 21,
   "id": "f78d7504",
   "metadata": {},
   "outputs": [],
   "source": [
    "import numpy as np\n",
    "import matplotlib.pyplot as plt\n",
    "import pandas as pd"
   ]
  },
  {
   "cell_type": "code",
   "execution_count": 22,
   "id": "8e3997de",
   "metadata": {},
   "outputs": [
    {
     "data": {
      "text/plain": [
       "(-0.5, 27.5, 27.5, -0.5)"
      ]
     },
     "execution_count": 22,
     "metadata": {},
     "output_type": "execute_result"
    },
    {
     "data": {
      "image/png": "[encoded data removed]",
      "text/plain": [
       "<Figure size 432x288 with 1 Axes>"
      ]
     },
     "metadata": {
      "needs_background": "light"
     },
     "output_type": "display_data"
    }
   ],
   "source": [
    "plt.imshow( greyscale_image ,cmap = \"binary\")\n",
    "plt.axis(\"off\")"
   ]
  },
  {
   "cell_type": "code",
   "execution_count": 23,
   "id": "477bc871",
   "metadata": {},
   "outputs": [
    {
     "data": {
      "text/plain": [
       "(-0.5, 27.5, 27.5, -0.5)"
      ]
     },
     "execution_count": 23,
     "metadata": {},
     "output_type": "execute_result"
    },
    {
     "data": {
      "image/png": "[encoded data removed]",
      "text/plain": [
       "<Figure size 432x288 with 1 Axes>"
      ]
     },
     "metadata": {
      "needs_background": "light"
     },
     "output_type": "display_data"
    }
   ],
   "source": [
    "plt.imshow( greyscale_image )\n",
    "plt.axis(\"off\")"
   ]
  },
  {
   "cell_type": "code",
   "execution_count": 24,
   "id": "847c690f",
   "metadata": {},
   "outputs": [
    {
     "name": "stdout",
     "output_type": "stream",
     "text": [
      "None\n",
      "L\n",
      "(28, 28)\n",
      "None\n"
     ]
    }
   ],
   "source": [
    "# Dimenstion of greyscale image \n",
    "\n",
    "print(greyscale_image.format) # Output: JPEG\n",
    "\n",
    "# The pixel format used by the image. Typical values are \"1\", \"L\", \"RGB\", or \"CMYK.\"\n",
    "print(greyscale_image.mode) # Output: RGB\n",
    "\n",
    "# Image size, in pixels. The size is given as a 2-tuple (width, height).\n",
    "print(greyscale_image.size) # Output: (1920, 1280)\n",
    "\n",
    "# Colour palette table, if any.\n",
    "print(greyscale_image.palette) # Output: None"
   ]
  },
  {
   "cell_type": "code",
   "execution_count": 25,
   "id": "112e94c1",
   "metadata": {},
   "outputs": [],
   "source": [
    "# increasing the channel of the image to  match the training image here axix = -1 means adding  channel  to  the last\n",
    "test_image = np.expand_dims(greyscale_image , axis=-1)"
   ]
  },
  {
   "cell_type": "code",
   "execution_count": 26,
   "id": "734fb2e9",
   "metadata": {},
   "outputs": [
    {
     "data": {
      "text/plain": [
       "(28, 28, 1)"
      ]
     },
     "execution_count": 26,
     "metadata": {},
     "output_type": "execute_result"
    }
   ],
   "source": [
    "test_image.shape"
   ]
  },
  {
   "cell_type": "code",
   "execution_count": 27,
   "id": "96a490d7",
   "metadata": {},
   "outputs": [],
   "source": [
    "# Increasing the channel  of the test  image ,  here axis =0  means adding  channel to the front \n",
    "test_image1 = np.expand_dims(test_image, axis = 0)"
   ]
  },
  {
   "cell_type": "code",
   "execution_count": 28,
   "id": "c71bcb7e",
   "metadata": {},
   "outputs": [
    {
     "data": {
      "text/plain": [
       "(1, 28, 28, 1)"
      ]
     },
     "execution_count": 28,
     "metadata": {},
     "output_type": "execute_result"
    }
   ],
   "source": [
    "test_image1.shape"
   ]
  },
  {
   "cell_type": "code",
   "execution_count": 29,
   "id": "ab9f7a1d",
   "metadata": {},
   "outputs": [],
   "source": [
    "# Normalizing the Test Image \n",
    "test_image2 = test_image1/ 255"
   ]
  },
  {
   "cell_type": "code",
   "execution_count": 30,
   "id": "603455f0",
   "metadata": {},
   "outputs": [
    {
     "data": {
      "text/plain": [
       "(1, 28, 28, 1)"
      ]
     },
     "execution_count": 30,
     "metadata": {},
     "output_type": "execute_result"
    }
   ],
   "source": [
    "test_image2.shape"
   ]
  },
  {
   "cell_type": "code",
   "execution_count": 31,
   "id": "e1a43858",
   "metadata": {},
   "outputs": [
    {
     "data": {
      "text/plain": [
       "array([[0.17840163, 0.02789551, 0.19828904, 0.19591694, 0.03961434,\n",
       "        0.07674783, 0.10312935, 0.08905884, 0.0688483 , 0.02209828]],\n",
       "      dtype=float32)"
      ]
     },
     "execution_count": 31,
     "metadata": {},
     "output_type": "execute_result"
    }
   ],
   "source": [
    "result = model.predict(test_image2)\n",
    "result"
   ]
  },
  {
   "cell_type": "code",
   "execution_count": 32,
   "id": "513c7716",
   "metadata": {},
   "outputs": [
    {
     "data": {
      "text/plain": [
       "2"
      ]
     },
     "execution_count": 32,
     "metadata": {},
     "output_type": "execute_result"
    }
   ],
   "source": [
    "# Predicting  the number \n",
    "y_pred1 = np.argmax(result)\n",
    "y_pred1"
   ]
  },
  {
   "cell_type": "code",
   "execution_count": null,
   "id": "f5610361",
   "metadata": {},
   "outputs": [],
   "source": []
  }
 ],
 "metadata": {
  "kernelspec": {
   "display_name": "Python 3",
   "language": "python",
   "name": "python3"
  },
  "language_info": {
   "codemirror_mode": {
    "name": "ipython",
    "version": 3
   },
   "file_extension": ".py",
   "mimetype": "text/x-python",
   "name": "python",
   "nbconvert_exporter": "python",
   "pygments_lexer": "ipython3",
   "version": "3.6.10"
  }
 },
 "nbformat": 4,
 "nbformat_minor": 5
}
